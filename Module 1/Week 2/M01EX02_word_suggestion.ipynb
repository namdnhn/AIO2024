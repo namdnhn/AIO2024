{
  "nbformat": 4,
  "nbformat_minor": 0,
  "metadata": {
    "colab": {
      "provenance": [],
      "authorship_tag": "ABX9TyO91iJA3FNjJw6pbhbtxBZj",
      "include_colab_link": true
    },
    "kernelspec": {
      "name": "python3",
      "display_name": "Python 3"
    },
    "language_info": {
      "name": "python"
    }
  },
  "cells": [
    {
      "cell_type": "markdown",
      "metadata": {
        "id": "view-in-github",
        "colab_type": "text"
      },
      "source": [
        "<a href=\"https://colab.research.google.com/github/namdnhn/AIO2024/blob/feature%2Fexercise-module1-week2/Module%201/Week%202/M01EX02_word_suggestion.ipynb\" target=\"_parent\"><img src=\"https://colab.research.google.com/assets/colab-badge.svg\" alt=\"Open In Colab\"/></a>"
      ]
    },
    {
      "cell_type": "markdown",
      "source": [
        "# Data Structure"
      ],
      "metadata": {
        "id": "mS428CSdyVvY"
      }
    },
    {
      "cell_type": "code",
      "source": [
        "import math\n",
        "import random"
      ],
      "metadata": {
        "id": "_sQ-p5dPzrP8"
      },
      "execution_count": null,
      "outputs": []
    },
    {
      "cell_type": "markdown",
      "source": [
        "## Exercise 1: Cửa sổ trượt"
      ],
      "metadata": {
        "id": "ZLxYu4mjy13Z"
      }
    },
    {
      "cell_type": "code",
      "execution_count": null,
      "metadata": {
        "colab": {
          "base_uri": "https://localhost:8080/"
        },
        "id": "72e4GeaCx5E0",
        "outputId": "143dada7-8043-4270-e545-256e261e6100"
      },
      "outputs": [
        {
          "output_type": "stream",
          "name": "stdout",
          "text": [
            "[5, 5, 5, 5, 10, 12, 33, 33]\n"
          ]
        }
      ],
      "source": [
        "num_list = [3, 4, 5, 1, -44, 5, 10, 12, 33, 1]\n",
        "k = 3\n",
        "result = []\n",
        "for i in range(len(num_list) - k + 1):\n",
        "  new_list = num_list[i:i + k]\n",
        "  result.append(max(new_list))\n",
        "\n",
        "print(result)"
      ]
    },
    {
      "cell_type": "markdown",
      "source": [
        "## Exercise 2:\n",
        "Viết function trả về một dictionary đếm số lượng chữ xuất hiện trong một từ, với key là chữ cái và value là số lần xuất hiện"
      ],
      "metadata": {
        "id": "ABWXLrwC7nxK"
      }
    },
    {
      "cell_type": "code",
      "source": [
        "def count_chars(string):\n",
        "  char_dict = {}\n",
        "  for c in string:\n",
        "    if c in char_dict:\n",
        "      char_dict[c] += 1\n",
        "    else:\n",
        "      char_dict[c] = 1\n",
        "  return char_dict\n",
        "\n",
        "a = \"Happiness\"\n",
        "count_chars(a)\n"
      ],
      "metadata": {
        "id": "EOVtmyufzm6t",
        "colab": {
          "base_uri": "https://localhost:8080/"
        },
        "outputId": "c3f1fcc5-07ee-4028-e727-a57141571513"
      },
      "execution_count": null,
      "outputs": [
        {
          "output_type": "execute_result",
          "data": {
            "text/plain": [
              "{'H': 1, 'a': 1, 'p': 2, 'i': 1, 'n': 1, 'e': 1, 's': 2}"
            ]
          },
          "metadata": {},
          "execution_count": 1
        }
      ]
    },
    {
      "cell_type": "markdown",
      "source": [
        "## Exercise 3:\n",
        "Viết function đọc các câu trong một file txt, đếm số lượng các từ xuất hiện và trả về một dictionary với key là từ và value là số lần từ đó xuất hiện."
      ],
      "metadata": {
        "id": "MOL6LJQJ9AiK"
      }
    },
    {
      "cell_type": "code",
      "source": [
        "!gdown https://drive.google.com/uc?id=1IBScGdW2xlNsc9v5zSAya548kNgiOrko"
      ],
      "metadata": {
        "colab": {
          "base_uri": "https://localhost:8080/"
        },
        "id": "SYNUjlIV93t0",
        "outputId": "b933642b-e013-4a93-b0e9-f34f39c40134"
      },
      "execution_count": null,
      "outputs": [
        {
          "output_type": "stream",
          "name": "stdout",
          "text": [
            "Downloading...\n",
            "From: https://drive.google.com/uc?id=1IBScGdW2xlNsc9v5zSAya548kNgiOrko\n",
            "To: /content/P1_data.txt\n",
            "\r  0% 0.00/747 [00:00<?, ?B/s]\r100% 747/747 [00:00<00:00, 2.37MB/s]\n"
          ]
        }
      ]
    },
    {
      "cell_type": "code",
      "source": [
        "def word_count(file_path):\n",
        "  f = open(file_path, \"r\")\n",
        "  data = f.read()\n",
        "  words = data.split()\n",
        "  word_dict = {}\n",
        "  for word in words:\n",
        "    if word in word_dict:\n",
        "      word_dict[word] += 1\n",
        "    else:\n",
        "      word_dict[word] = 1\n",
        "\n",
        "  my_keys = list(word_dict.keys())\n",
        "  my_keys.sort()\n",
        "  sorted_dict = {i: word_dict[i] for i in my_keys}\n",
        "  return sorted_dict\n",
        "\n",
        "\n",
        "\n",
        "file_path = '/content/P1_data.txt'\n",
        "word_count(file_path)"
      ],
      "metadata": {
        "colab": {
          "base_uri": "https://localhost:8080/"
        },
        "id": "myNOGEhV9J6I",
        "outputId": "f0001080-7397-4a62-a75e-4306dc2f1703"
      },
      "execution_count": null,
      "outputs": [
        {
          "output_type": "execute_result",
          "data": {
            "text/plain": [
              "{'A': 1,\n",
              " 'He': 1,\n",
              " 'Just': 1,\n",
              " 'One': 2,\n",
              " 'Success': 1,\n",
              " 'The': 1,\n",
              " 'Try': 1,\n",
              " 'We': 1,\n",
              " 'You': 1,\n",
              " 'a': 6,\n",
              " 'again': 1,\n",
              " 'and': 1,\n",
              " 'are': 1,\n",
              " 'at': 1,\n",
              " 'be': 1,\n",
              " 'become': 2,\n",
              " 'bricks': 1,\n",
              " 'busy': 1,\n",
              " 'but': 1,\n",
              " 'came': 1,\n",
              " 'can': 3,\n",
              " 'cannot': 1,\n",
              " 'change': 1,\n",
              " 'comes': 2,\n",
              " 'conquers': 1,\n",
              " 'courage': 1,\n",
              " 'day': 1,\n",
              " 'different': 1,\n",
              " 'employed': 1,\n",
              " 'enough': 1,\n",
              " 'everything': 1,\n",
              " 'firm': 1,\n",
              " 'for': 3,\n",
              " 'foundation': 1,\n",
              " 'from': 1,\n",
              " 'get': 2,\n",
              " 'have': 1,\n",
              " 'help': 1,\n",
              " 'him': 1,\n",
              " 'himself': 1,\n",
              " 'his': 2,\n",
              " 'if': 1,\n",
              " 'in': 4,\n",
              " 'is': 3,\n",
              " 'it': 2,\n",
              " 'just': 1,\n",
              " 'kind': 1,\n",
              " 'lay': 1,\n",
              " 'life': 2,\n",
              " 'looking': 1,\n",
              " 'majority': 1,\n",
              " 'makes': 1,\n",
              " 'man': 6,\n",
              " 'mightiest': 1,\n",
              " 'mistakes': 1,\n",
              " 'morning': 1,\n",
              " 'not': 1,\n",
              " 'of': 4,\n",
              " 'one': 2,\n",
              " 'opportunity': 1,\n",
              " 'other': 1,\n",
              " 'others': 1,\n",
              " 'people': 1,\n",
              " 'positive': 1,\n",
              " 'problems': 1,\n",
              " 'profit': 1,\n",
              " 'rather': 1,\n",
              " 'ready': 1,\n",
              " 'secret': 1,\n",
              " 'small': 1,\n",
              " 'solve': 1,\n",
              " 'success': 2,\n",
              " 'successful': 2,\n",
              " 'the': 4,\n",
              " 'them': 1,\n",
              " 'they': 1,\n",
              " 'thinking': 1,\n",
              " 'those': 1,\n",
              " 'thought': 1,\n",
              " 'thrown': 1,\n",
              " 'to': 3,\n",
              " 'too': 1,\n",
              " 'try': 1,\n",
              " 'up': 1,\n",
              " 'usually': 1,\n",
              " 'value': 1,\n",
              " 'want': 2,\n",
              " 'warrior': 1,\n",
              " 'way': 1,\n",
              " 'we': 2,\n",
              " 'what': 1,\n",
              " 'when': 2,\n",
              " 'who': 3,\n",
              " 'whole': 1,\n",
              " 'will': 2,\n",
              " 'with': 4,\n",
              " 'you': 2,\n",
              " 'your': 1}"
            ]
          },
          "metadata": {},
          "execution_count": 12
        }
      ]
    },
    {
      "cell_type": "markdown",
      "source": [
        "## Exercise 4: Khoảng cách Levenshtein\n"
      ],
      "metadata": {
        "id": "x1DWgx3hAEtE"
      }
    },
    {
      "cell_type": "code",
      "source": [
        "def levenshtein_distance(token1, token2):\n",
        "  distance = [[0] * (len(token2) + 1) for i in range(len(token1) + 1)]\\\n",
        "\n",
        "  for t1 in range(len(token1) + 1):\n",
        "    distance[t1][0] = t1\n",
        "  for t2 in range(len(token2) + 1):\n",
        "    distance[0][t2] = t2\n",
        "\n",
        "  for i in range(1, len(token1) + 1):\n",
        "    for j in range(1, len(token2) + 1):\n",
        "      a = distance[i-1][j-1]\n",
        "      b = distance[i-1][j]\n",
        "      c = distance[i][j-1]\n",
        "\n",
        "      if token1[i - 1] == token2[j - 1]:\n",
        "        distance[i][j] = distance[i-1][j-1]\n",
        "      else:\n",
        "        if min(a, b, c) == b:\n",
        "          distance[i][j] = b + 1\n",
        "        elif min(a, b, c) == c:\n",
        "          distance[i][j] = c + 1\n",
        "        else:\n",
        "          distance[i][j] = a + 1\n",
        "\n",
        "  return distance[len(token1)][len(token2)]\n",
        "\n",
        "levenshtein_distance(\"hola\", \"hello\")"
      ],
      "metadata": {
        "id": "LZry3Uscb2up",
        "colab": {
          "base_uri": "https://localhost:8080/"
        },
        "outputId": "04ef83f8-406d-4c5f-98ff-637d8c4d69f7"
      },
      "execution_count": null,
      "outputs": [
        {
          "output_type": "execute_result",
          "data": {
            "text/plain": [
              "3"
            ]
          },
          "metadata": {},
          "execution_count": 13
        }
      ]
    }
  ]
}
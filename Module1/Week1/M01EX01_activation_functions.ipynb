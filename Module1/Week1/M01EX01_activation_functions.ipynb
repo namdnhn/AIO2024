{
  "nbformat": 4,
  "nbformat_minor": 0,
  "metadata": {
    "colab": {
      "provenance": [],
      "authorship_tag": "ABX9TyOa1BW1MyVGipl9zC+hI+r0"
    },
    "kernelspec": {
      "name": "python3",
      "display_name": "Python 3"
    },
    "language_info": {
      "name": "python"
    }
  },
  "cells": [
    {
      "cell_type": "markdown",
      "source": [
        "# Basic Python"
      ],
      "metadata": {
        "id": "2rXLBfLnR356"
      }
    },
    {
      "cell_type": "markdown",
      "source": [
        "Activation Function - Hàm kích hoạt"
      ],
      "metadata": {
        "id": "DkEF35UFSMCH"
      }
    },
    {
      "cell_type": "code",
      "source": [
        "import math\n",
        "import random"
      ],
      "metadata": {
        "id": "_ev7swp8SRiK"
      },
      "execution_count": null,
      "outputs": []
    },
    {
      "cell_type": "markdown",
      "source": [
        "## Exercise 1\n",
        "Viết function thực hiện đánh giá classification model bằng F1-Score."
      ],
      "metadata": {
        "id": "wFH9Od8LSWOu"
      }
    },
    {
      "cell_type": "code",
      "source": [
        "def evaluate_f1_score(tp, fp, fn):\n",
        "  # Calculate Precision, Recall, and F1-score\n",
        "  precision = tp / (tp + fp)\n",
        "  recall = tp / (tp + fn)\n",
        "  f1_score = 2 * (precision * recall) / (precision + recall)\n",
        "\n",
        "  # Print results\n",
        "  print(f\"Precision: {precision}\")\n",
        "  print(f\"Recall: {recall}\")\n",
        "  print(f\"F1-score: {f1_score}\")"
      ],
      "metadata": {
        "id": "bLotRu54SiGP"
      },
      "execution_count": null,
      "outputs": []
    },
    {
      "cell_type": "code",
      "source": [
        "evaluate_f1_score(2, 3, 4)"
      ],
      "metadata": {
        "colab": {
          "base_uri": "https://localhost:8080/"
        },
        "id": "ulm7ob2MTOQt",
        "outputId": "07d3817c-f4f0-49b2-a856-3d76d399390e"
      },
      "execution_count": null,
      "outputs": [
        {
          "output_type": "stream",
          "name": "stdout",
          "text": [
            "Precision: 0.4\n",
            "Recall: 0.3333333333333333\n",
            "F1-score: 0.3636363636363636\n"
          ]
        }
      ]
    },
    {
      "cell_type": "markdown",
      "source": [
        "## Exercise 2\n",
        "Viết function mô phỏng theo 3 activation function: sigmoid, ReLU, ELU"
      ],
      "metadata": {
        "id": "t4EsSiCVThTx"
      }
    },
    {
      "cell_type": "code",
      "source": [
        "def is_number(s):\n",
        "    try:\n",
        "        float(s)\n",
        "        return True\n",
        "    except ValueError:\n",
        "        return False"
      ],
      "metadata": {
        "id": "qblKtRJlTtb7"
      },
      "execution_count": null,
      "outputs": []
    },
    {
      "cell_type": "code",
      "source": [
        "def activation_function(x, activation_function):\n",
        "  # check number\n",
        "  if not is_number(x):\n",
        "    print(\"x is not a number\")\n",
        "    return\n",
        "\n",
        "  # check function valid\n",
        "  if activation_function == 'sigmoid':\n",
        "    return 1 / (1 + math.exp(-x))\n",
        "  elif activation_function == 'relu':\n",
        "    return max(0, x)\n",
        "  elif activation_function == 'elu':\n",
        "    return x if x>0 else 0.01 * (math.exp(x)-1)\n",
        "  else:\n",
        "    print(\"function is not valid\")\n",
        "    return"
      ],
      "metadata": {
        "id": "IOxjiSywUCma"
      },
      "execution_count": null,
      "outputs": []
    },
    {
      "cell_type": "code",
      "source": [
        "activation_function(1, 'sigmoid')"
      ],
      "metadata": {
        "colab": {
          "base_uri": "https://localhost:8080/"
        },
        "id": "OibbYp_fU_o2",
        "outputId": "4659995d-d885-4552-d94d-29f33732d4ea"
      },
      "execution_count": null,
      "outputs": [
        {
          "output_type": "execute_result",
          "data": {
            "text/plain": [
              "0.7310585786300049"
            ]
          },
          "metadata": {},
          "execution_count": 6
        }
      ]
    },
    {
      "cell_type": "code",
      "source": [
        "activation_function(\"abc\", 'relu')"
      ],
      "metadata": {
        "colab": {
          "base_uri": "https://localhost:8080/"
        },
        "id": "ORkdaYVRVGEW",
        "outputId": "a7935d6c-01b1-4c13-f220-c2022b0e2d06"
      },
      "execution_count": null,
      "outputs": [
        {
          "output_type": "stream",
          "name": "stdout",
          "text": [
            "x is not a number\n"
          ]
        }
      ]
    },
    {
      "cell_type": "markdown",
      "source": [
        "## Exercise 3\n",
        "Viết function lựa chọn regression loss function để tính loss:"
      ],
      "metadata": {
        "id": "hrmj0pvQVTd7"
      }
    },
    {
      "cell_type": "code",
      "source": [
        "def calculate_loss(num_samples, loss_name):\n",
        "    # check number\n",
        "    if not str(num_samples).isdigit() or int(num_samples) <= 0:\n",
        "        print(\"num_samples must be a positive integer\")\n",
        "        return\n",
        "\n",
        "    # calculate loss\n",
        "    num_samples = int(num_samples)\n",
        "\n",
        "    samples = list(range(num_samples))\n",
        "    predict = [random.uniform(0, 10) for i in range(num_samples)]\n",
        "    target = [random.uniform(0, 10) for i in range(num_samples)]\n",
        "\n",
        "    total_loss = 0\n",
        "    for i in samples:\n",
        "        if loss_name == 'MAE':\n",
        "            loss = abs(predict[i] - target[i])\n",
        "        elif loss_name == 'MSE':\n",
        "            loss = (predict[i] - target[i])**2\n",
        "        elif loss_name == 'RMSE':\n",
        "            loss = math.sqrt((predict[i] - target[i])**2)\n",
        "        else:\n",
        "            print(\"loss_name is not valid\")\n",
        "            return\n",
        "\n",
        "        total_loss += loss\n",
        "        print(f\"loss name: {loss_name}, sample: {i}, pred: {predict[i]}, target: {target[i]}, loss: {loss}\")\n",
        "\n",
        "    print(f\"Total Loss: {total_loss/num_samples}\")"
      ],
      "metadata": {
        "id": "Qr_kQ726VaAn"
      },
      "execution_count": null,
      "outputs": []
    },
    {
      "cell_type": "code",
      "source": [
        "calculate_loss(3, 'MAE')"
      ],
      "metadata": {
        "colab": {
          "base_uri": "https://localhost:8080/"
        },
        "id": "8ffeYQalV0NH",
        "outputId": "045a4fbc-92d2-4ac7-ae35-a04b049504c9"
      },
      "execution_count": null,
      "outputs": [
        {
          "output_type": "stream",
          "name": "stdout",
          "text": [
            "loss name: MAE, sample: 0, pred: 6.536881120316059, target: 0.02158929922834396, loss: 6.515291821087715\n",
            "loss name: MAE, sample: 1, pred: 0.9570749885814711, target: 9.857924896137803, loss: 8.900849907556331\n",
            "loss name: MAE, sample: 2, pred: 6.4656099853165285, target: 6.886544639159502, loss: 0.42093465384297346\n",
            "Total Loss: 5.279025460829007\n"
          ]
        }
      ]
    },
    {
      "cell_type": "markdown",
      "source": [
        "## Exercise 4\n",
        "Viết hàm ước lượng hàm số sin, cos, sinh, cosh"
      ],
      "metadata": {
        "id": "6h6FZ0VfWBkb"
      }
    },
    {
      "cell_type": "code",
      "source": [
        "def factorial(n):\n",
        "    if n == 0:\n",
        "        return 1\n",
        "    else:\n",
        "        return n * factorial(n-1)"
      ],
      "metadata": {
        "id": "aJ7547ltWNYS"
      },
      "execution_count": null,
      "outputs": []
    },
    {
      "cell_type": "code",
      "source": [
        "def calculate_sin_cos_sinh_cosh(x,n,func_name):\n",
        "    # check number\n",
        "    if not is_number(x):\n",
        "        print(\"x must be a number\")\n",
        "        return\n",
        "    # check positive integer\n",
        "    if not str(n).isdigit() or int(n) <= 0:\n",
        "        print(\"n must be a positive integer\")\n",
        "        return\n",
        "\n",
        "    x = float(x)\n",
        "    n = int(n)\n",
        "\n",
        "    if func_name == 'sin':\n",
        "        result = 0\n",
        "        for i in range(n):\n",
        "            result += ((-1)**i * x**(2*i + 1)) / factorial(2*i + 1)\n",
        "        return result\n",
        "    elif func_name == 'cos':\n",
        "        result = 0\n",
        "        for i in range(n):\n",
        "            result += ((-1)**i * x**(2*i)) / factorial(2*i)\n",
        "        return result\n",
        "    elif func_name == 'sinh':\n",
        "        result = 0\n",
        "        for i in range(n):\n",
        "            result += x**(2*i + 1) / factorial(2*i + 1)\n",
        "        return result\n",
        "    elif func_name == 'cosh':\n",
        "        result = 0\n",
        "        for i in range(n):\n",
        "            result += x**(2*i) / factorial(2*i)\n",
        "        return result\n",
        "    else:\n",
        "        print(\"func_name is not valid\")\n",
        "        return"
      ],
      "metadata": {
        "id": "hctMTLEeWSeK"
      },
      "execution_count": null,
      "outputs": []
    },
    {
      "cell_type": "code",
      "source": [
        "print(calculate_sin_cos_sinh_cosh(x = 3.14, n = 15, func_name='sin'))\n",
        "print(calculate_sin_cos_sinh_cosh(x = 3.14, n = 15, func_name='cos'))\n",
        "print(calculate_sin_cos_sinh_cosh(x = 3.14, n = 15, func_name='sinh'))\n",
        "print(calculate_sin_cos_sinh_cosh(x = 3.14, n = 15, func_name='cosh'))"
      ],
      "metadata": {
        "colab": {
          "base_uri": "https://localhost:8080/"
        },
        "id": "SuAyoDrkWpZN",
        "outputId": "9be8aed7-5ba3-4223-a07f-7ef296185795"
      },
      "execution_count": null,
      "outputs": [
        {
          "output_type": "stream",
          "name": "stdout",
          "text": [
            "0.0015926529164870984\n",
            "-0.9999987317275388\n",
            "11.53029203041011\n",
            "11.573574828312077\n"
          ]
        }
      ]
    },
    {
      "cell_type": "markdown",
      "source": [
        "## Exercise 5\n",
        "Viết function thực hiện Mean Difference of nth Root Error:"
      ],
      "metadata": {
        "id": "7ULUbBjvWwB6"
      }
    },
    {
      "cell_type": "code",
      "source": [
        "def md_nre_single_sample_calculate(y, y_hat, n, p):\n",
        "    _y = float(y)\n",
        "    _y_hat = float(y_hat)\n",
        "    _n = int(n)\n",
        "    _p = int(p)\n",
        "\n",
        "    md = (_y ** (1 / _n)) - (_y_hat ** (1 / _n)) ** _p\n",
        "    return print(md)"
      ],
      "metadata": {
        "id": "a0fg8QHfW2ys"
      },
      "execution_count": null,
      "outputs": []
    },
    {
      "cell_type": "code",
      "source": [
        "md_nre_single_sample_calculate(1000, 999.5, 2, 1)"
      ],
      "metadata": {
        "colab": {
          "base_uri": "https://localhost:8080/"
        },
        "id": "NNy5QjwjW7ya",
        "outputId": "64b6fb16-7ced-4f28-d8ca-1189f426833d"
      },
      "execution_count": null,
      "outputs": [
        {
          "output_type": "stream",
          "name": "stdout",
          "text": [
            "0.00790668260932037\n"
          ]
        }
      ]
    }
  ]
}
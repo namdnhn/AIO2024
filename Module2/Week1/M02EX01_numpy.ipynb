{
 "cells": [
  {
   "cell_type": "markdown",
   "metadata": {},
   "source": [
    "EX1: Basic numpy"
   ]
  },
  {
   "cell_type": "code",
   "execution_count": 3,
   "metadata": {},
   "outputs": [
    {
     "name": "stdout",
     "output_type": "stream",
     "text": [
      "[1 1 1 2 2 2 3 3 3]\n",
      "[1 2 3 1 2 3 1 2 3]\n"
     ]
    }
   ],
   "source": [
    "# Q8\n",
    "import numpy as np\n",
    "arr = np.array([1, 2, 3])\n",
    "print(np.repeat(arr, 3))\n",
    "print(np.tile(arr, 3))"
   ]
  },
  {
   "cell_type": "markdown",
   "metadata": {},
   "source": [
    "EX2: Image Processing"
   ]
  },
  {
   "cell_type": "code",
   "execution_count": 7,
   "metadata": {},
   "outputs": [
    {
     "name": "stdout",
     "output_type": "stream",
     "text": [
      "Collecting gdown\n",
      "  Downloading gdown-5.2.0-py3-none-any.whl.metadata (5.8 kB)\n",
      "Requirement already satisfied: beautifulsoup4 in c:\\users\\admin\\miniconda3\\envs\\aivn\\lib\\site-packages (from gdown) (4.12.3)\n",
      "Collecting filelock (from gdown)\n",
      "  Downloading filelock-3.15.4-py3-none-any.whl.metadata (2.9 kB)\n",
      "Requirement already satisfied: requests[socks] in c:\\users\\admin\\miniconda3\\envs\\aivn\\lib\\site-packages (from gdown) (2.32.3)\n",
      "Collecting tqdm (from gdown)\n",
      "  Downloading tqdm-4.66.4-py3-none-any.whl.metadata (57 kB)\n",
      "     ---------------------------------------- 0.0/57.6 kB ? eta -:--:--\n",
      "     ------- -------------------------------- 10.2/57.6 kB ? eta -:--:--\n",
      "     ------- -------------------------------- 10.2/57.6 kB ? eta -:--:--\n",
      "     --------------------------------- ---- 51.2/57.6 kB 435.7 kB/s eta 0:00:01\n",
      "     -------------------------------------- 57.6/57.6 kB 430.1 kB/s eta 0:00:00\n",
      "Requirement already satisfied: soupsieve>1.2 in c:\\users\\admin\\miniconda3\\envs\\aivn\\lib\\site-packages (from beautifulsoup4->gdown) (2.5)\n",
      "Requirement already satisfied: charset-normalizer<4,>=2 in c:\\users\\admin\\miniconda3\\envs\\aivn\\lib\\site-packages (from requests[socks]->gdown) (3.3.2)\n",
      "Requirement already satisfied: idna<4,>=2.5 in c:\\users\\admin\\miniconda3\\envs\\aivn\\lib\\site-packages (from requests[socks]->gdown) (3.7)\n",
      "Requirement already satisfied: urllib3<3,>=1.21.1 in c:\\users\\admin\\miniconda3\\envs\\aivn\\lib\\site-packages (from requests[socks]->gdown) (2.2.2)\n",
      "Requirement already satisfied: certifi>=2017.4.17 in c:\\users\\admin\\miniconda3\\envs\\aivn\\lib\\site-packages (from requests[socks]->gdown) (2024.7.4)\n",
      "Collecting PySocks!=1.5.7,>=1.5.6 (from requests[socks]->gdown)\n",
      "  Downloading PySocks-1.7.1-py3-none-any.whl.metadata (13 kB)\n",
      "Requirement already satisfied: colorama in c:\\users\\admin\\miniconda3\\envs\\aivn\\lib\\site-packages (from tqdm->gdown) (0.4.6)\n",
      "Downloading gdown-5.2.0-py3-none-any.whl (18 kB)\n",
      "Downloading filelock-3.15.4-py3-none-any.whl (16 kB)\n",
      "Downloading tqdm-4.66.4-py3-none-any.whl (78 kB)\n",
      "   ---------------------------------------- 0.0/78.3 kB ? eta -:--:--\n",
      "   -------------------- ------------------- 41.0/78.3 kB 1.9 MB/s eta 0:00:01\n",
      "   ---------------------------------------- 78.3/78.3 kB 1.1 MB/s eta 0:00:00\n",
      "Downloading PySocks-1.7.1-py3-none-any.whl (16 kB)\n",
      "Installing collected packages: tqdm, PySocks, filelock, gdown\n",
      "Successfully installed PySocks-1.7.1 filelock-3.15.4 gdown-5.2.0 tqdm-4.66.4\n",
      "Note: you may need to restart the kernel to use updated packages.\n"
     ]
    },
    {
     "name": "stderr",
     "output_type": "stream",
     "text": [
      "Downloading...\n",
      "From: https://drive.google.com/uc?id=1i9dqan21DjQoG5Q_VEvm0LrVwAlXD0vB\n",
      "To: e:\\OneDrive - MSFT\\AI VIETNAM\\AIO2024\\Module2\\Week1\\dog.jpeg\n",
      "\n",
      "  0%|          | 0.00/33.7k [00:00<?, ?B/s]\n",
      "100%|██████████| 33.7k/33.7k [00:00<?, ?B/s]\n"
     ]
    }
   ],
   "source": [
    "%pip install gdown\n",
    "!gdown 1i9dqan21DjQoG5Q_VEvm0LrVwAlXD0vB"
   ]
  },
  {
   "cell_type": "code",
   "execution_count": 18,
   "metadata": {},
   "outputs": [
    {
     "name": "stdout",
     "output_type": "stream",
     "text": [
      "1 102.5\n",
      "2 107.66666666666667\n",
      "3 126.22999999999999\n"
     ]
    }
   ],
   "source": [
    "import matplotlib.image as mpimg\n",
    "\n",
    "def lightness(img):\n",
    "    return (np.max(img, axis=2) + np.min(img, axis=2)) / 2\n",
    "\n",
    "def average(img):\n",
    "    return np.sum(img, axis=2) / 3\n",
    "\n",
    "def luminosity(img):\n",
    "    return 0.21 * img[:, :, 0] + 0.72 * img[:, :, 1] + 0.07 * img[:, :, 2]\n",
    "\n",
    "img = mpimg.imread('dog.jpeg')\n",
    "gray_img_01 = lightness(img)\n",
    "gray_img_02 = average(img)\n",
    "gray_img_03 = luminosity(img)\n",
    "\n",
    "print(\"1\", gray_img_01[0, 0])\n",
    "print(\"2\", gray_img_02[0, 0])\n",
    "print(\"3\", gray_img_03[0, 0])\n",
    "\n"
   ]
  },
  {
   "cell_type": "markdown",
   "metadata": {},
   "source": [
    "EX3: Table data analysis"
   ]
  },
  {
   "cell_type": "code",
   "execution_count": 19,
   "metadata": {},
   "outputs": [
    {
     "name": "stderr",
     "output_type": "stream",
     "text": [
      "Downloading...\n",
      "From: https://drive.google.com/uc?id=1iA0WmVfW88HyJvTBSQDI5vesf-pgKabq\n",
      "To: e:\\OneDrive - MSFT\\AI VIETNAM\\AIO2024\\Module2\\Week1\\advertising.csv\n",
      "\n",
      "  0%|          | 0.00/4.06k [00:00<?, ?B/s]\n",
      "100%|██████████| 4.06k/4.06k [00:00<00:00, 1.64MB/s]\n"
     ]
    }
   ],
   "source": [
    "!gdown 1iA0WmVfW88HyJvTBSQDI5vesf-pgKabq"
   ]
  },
  {
   "cell_type": "code",
   "execution_count": 20,
   "metadata": {},
   "outputs": [
    {
     "name": "stdout",
     "output_type": "stream",
     "text": [
      "Collecting pandas\n",
      "  Downloading pandas-2.2.2-cp39-cp39-win_amd64.whl.metadata (19 kB)\n",
      "Requirement already satisfied: numpy>=1.22.4 in c:\\users\\admin\\miniconda3\\envs\\aivn\\lib\\site-packages (from pandas) (2.0.0)\n",
      "Requirement already satisfied: python-dateutil>=2.8.2 in c:\\users\\admin\\miniconda3\\envs\\aivn\\lib\\site-packages (from pandas) (2.9.0.post0)\n",
      "Collecting pytz>=2020.1 (from pandas)\n",
      "  Using cached pytz-2024.1-py2.py3-none-any.whl.metadata (22 kB)\n",
      "Collecting tzdata>=2022.7 (from pandas)\n",
      "  Using cached tzdata-2024.1-py2.py3-none-any.whl.metadata (1.4 kB)\n",
      "Requirement already satisfied: six>=1.5 in c:\\users\\admin\\miniconda3\\envs\\aivn\\lib\\site-packages (from python-dateutil>=2.8.2->pandas) (1.16.0)\n",
      "Downloading pandas-2.2.2-cp39-cp39-win_amd64.whl (11.6 MB)\n",
      "   ---------------------------------------- 0.0/11.6 MB ? eta -:--:--\n",
      "   ---------------------------------------- 0.0/11.6 MB ? eta -:--:--\n",
      "   ---------------------------------------- 0.0/11.6 MB 435.7 kB/s eta 0:00:27\n",
      "   ---------------------------------------- 0.1/11.6 MB 653.6 kB/s eta 0:00:18\n",
      "   ---------------------------------------- 0.1/11.6 MB 726.2 kB/s eta 0:00:16\n",
      "    --------------------------------------- 0.2/11.6 MB 1.1 MB/s eta 0:00:10\n",
      "   - -------------------------------------- 0.3/11.6 MB 1.4 MB/s eta 0:00:09\n",
      "   - -------------------------------------- 0.6/11.6 MB 1.9 MB/s eta 0:00:06\n",
      "   -- ------------------------------------- 0.8/11.6 MB 2.2 MB/s eta 0:00:06\n",
      "   -- ------------------------------------- 0.9/11.6 MB 2.3 MB/s eta 0:00:05\n",
      "   --- ------------------------------------ 1.1/11.6 MB 2.5 MB/s eta 0:00:05\n",
      "   ---- ----------------------------------- 1.3/11.6 MB 2.6 MB/s eta 0:00:05\n",
      "   ----- ---------------------------------- 1.5/11.6 MB 2.8 MB/s eta 0:00:04\n",
      "   ----- ---------------------------------- 1.6/11.6 MB 2.8 MB/s eta 0:00:04\n",
      "   ------ --------------------------------- 1.9/11.6 MB 3.0 MB/s eta 0:00:04\n",
      "   ------- -------------------------------- 2.1/11.6 MB 3.2 MB/s eta 0:00:04\n",
      "   -------- ------------------------------- 2.4/11.6 MB 3.3 MB/s eta 0:00:03\n",
      "   -------- ------------------------------- 2.5/11.6 MB 3.4 MB/s eta 0:00:03\n",
      "   -------- ------------------------------- 2.6/11.6 MB 3.1 MB/s eta 0:00:03\n",
      "   --------- ------------------------------ 2.7/11.6 MB 3.2 MB/s eta 0:00:03\n",
      "   --------- ------------------------------ 2.9/11.6 MB 3.2 MB/s eta 0:00:03\n",
      "   ---------- ----------------------------- 3.1/11.6 MB 3.2 MB/s eta 0:00:03\n",
      "   ----------- ---------------------------- 3.3/11.6 MB 3.3 MB/s eta 0:00:03\n",
      "   ----------- ---------------------------- 3.4/11.6 MB 3.3 MB/s eta 0:00:03\n",
      "   ------------ --------------------------- 3.6/11.6 MB 3.3 MB/s eta 0:00:03\n",
      "   ------------ --------------------------- 3.8/11.6 MB 3.3 MB/s eta 0:00:03\n",
      "   ------------- -------------------------- 4.0/11.6 MB 3.3 MB/s eta 0:00:03\n",
      "   -------------- ------------------------- 4.1/11.6 MB 3.4 MB/s eta 0:00:03\n",
      "   -------------- ------------------------- 4.3/11.6 MB 3.4 MB/s eta 0:00:03\n",
      "   --------------- ------------------------ 4.5/11.6 MB 3.4 MB/s eta 0:00:03\n",
      "   ---------------- ----------------------- 4.7/11.6 MB 3.5 MB/s eta 0:00:03\n",
      "   ----------------- ---------------------- 5.0/11.6 MB 3.6 MB/s eta 0:00:02\n",
      "   ----------------- ---------------------- 5.1/11.6 MB 3.6 MB/s eta 0:00:02\n",
      "   ------------------ --------------------- 5.3/11.6 MB 3.6 MB/s eta 0:00:02\n",
      "   ------------------- -------------------- 5.5/11.6 MB 3.6 MB/s eta 0:00:02\n",
      "   ------------------- -------------------- 5.7/11.6 MB 3.6 MB/s eta 0:00:02\n",
      "   -------------------- ------------------- 5.9/11.6 MB 3.6 MB/s eta 0:00:02\n",
      "   --------------------- ------------------ 6.1/11.6 MB 3.7 MB/s eta 0:00:02\n",
      "   --------------------- ------------------ 6.3/11.6 MB 3.7 MB/s eta 0:00:02\n",
      "   ---------------------- ----------------- 6.5/11.6 MB 3.7 MB/s eta 0:00:02\n",
      "   ----------------------- ---------------- 6.8/11.6 MB 3.7 MB/s eta 0:00:02\n",
      "   ----------------------- ---------------- 7.0/11.6 MB 3.7 MB/s eta 0:00:02\n",
      "   ------------------------ --------------- 7.2/11.6 MB 3.7 MB/s eta 0:00:02\n",
      "   ------------------------- -------------- 7.3/11.6 MB 3.8 MB/s eta 0:00:02\n",
      "   ------------------------- -------------- 7.5/11.6 MB 3.8 MB/s eta 0:00:02\n",
      "   -------------------------- ------------- 7.8/11.6 MB 3.8 MB/s eta 0:00:02\n",
      "   --------------------------- ------------ 8.0/11.6 MB 3.8 MB/s eta 0:00:01\n",
      "   ---------------------------- ----------- 8.2/11.6 MB 3.8 MB/s eta 0:00:01\n",
      "   ---------------------------- ----------- 8.4/11.6 MB 3.8 MB/s eta 0:00:01\n",
      "   ----------------------------- ---------- 8.5/11.6 MB 3.8 MB/s eta 0:00:01\n",
      "   ------------------------------ --------- 8.8/11.6 MB 3.9 MB/s eta 0:00:01\n",
      "   ------------------------------ --------- 9.0/11.6 MB 3.9 MB/s eta 0:00:01\n",
      "   ------------------------------- -------- 9.2/11.6 MB 3.9 MB/s eta 0:00:01\n",
      "   -------------------------------- ------- 9.4/11.6 MB 3.9 MB/s eta 0:00:01\n",
      "   -------------------------------- ------- 9.6/11.6 MB 3.9 MB/s eta 0:00:01\n",
      "   --------------------------------- ------ 9.8/11.6 MB 3.9 MB/s eta 0:00:01\n",
      "   ---------------------------------- ----- 10.0/11.6 MB 3.9 MB/s eta 0:00:01\n",
      "   ----------------------------------- ---- 10.2/11.6 MB 3.9 MB/s eta 0:00:01\n",
      "   ----------------------------------- ---- 10.3/11.6 MB 4.1 MB/s eta 0:00:01\n",
      "   ------------------------------------ --- 10.5/11.6 MB 4.2 MB/s eta 0:00:01\n",
      "   ------------------------------------- -- 10.8/11.6 MB 4.2 MB/s eta 0:00:01\n",
      "   ------------------------------------- -- 11.0/11.6 MB 4.3 MB/s eta 0:00:01\n",
      "   -------------------------------------- - 11.2/11.6 MB 4.2 MB/s eta 0:00:01\n",
      "   ---------------------------------------  11.4/11.6 MB 4.3 MB/s eta 0:00:01\n",
      "   ---------------------------------------  11.6/11.6 MB 4.3 MB/s eta 0:00:01\n",
      "   ---------------------------------------  11.6/11.6 MB 4.3 MB/s eta 0:00:01\n",
      "   ---------------------------------------- 11.6/11.6 MB 4.2 MB/s eta 0:00:00\n",
      "Using cached pytz-2024.1-py2.py3-none-any.whl (505 kB)\n",
      "Using cached tzdata-2024.1-py2.py3-none-any.whl (345 kB)\n",
      "Installing collected packages: pytz, tzdata, pandas\n",
      "Successfully installed pandas-2.2.2 pytz-2024.1 tzdata-2024.1\n",
      "Note: you may need to restart the kernel to use updated packages.\n"
     ]
    }
   ],
   "source": [
    "%pip install pandas"
   ]
  },
  {
   "cell_type": "code",
   "execution_count": 40,
   "metadata": {},
   "outputs": [
    {
     "name": "stdout",
     "output_type": "stream",
     "text": [
      "Max sales: 27.0 at index 175\n",
      "Average of TV: 147.0425\n",
      "Count of sales greater than 20: 40\n",
      "Mean of radio where sales >= 15: 26.22293577981651\n",
      "Sum of sales where newspaper > mean: 1405.1\n",
      "Rate of sales: ['Bad' 'Bad' 'Good']\n"
     ]
    },
    {
     "data": {
      "text/plain": [
       "array(['Bad', 'Bad', 'Good'], dtype='<U7')"
      ]
     },
     "execution_count": 40,
     "metadata": {},
     "output_type": "execute_result"
    }
   ],
   "source": [
    "import pandas as pd\n",
    "\n",
    "df = pd.read_csv('advertising.csv')\n",
    "\n",
    "data = df.to_numpy()\n",
    "\n",
    "max_sales = np.max(data[:, -1])\n",
    "max_sales_index = np.argmax(data[:, -1])\n",
    "print(\"Max sales:\", max_sales, \"at index\", max_sales_index)\n",
    "\n",
    "print(\"Average of TV:\", np.mean(data[:, 0]))\n",
    "\n",
    "count_of_sales_greater_than_20 = np.sum(data[:, -1] >= 20)\n",
    "print(\"Count of sales greater than 20:\", count_of_sales_greater_than_20)\n",
    "\n",
    "mean_radio = np.mean(data[data[:, -1] >= 15, 1])\n",
    "print(\"Mean of radio where sales >= 15:\", mean_radio)\n",
    "\n",
    "mean_newspaper = np.mean(data[:, 2])\n",
    "sum_of_sale = np.sum(data[data[:, 2] > mean_newspaper, -1])\n",
    "print(\"Sum of sales where newspaper > mean:\", sum_of_sale)\n",
    "\n",
    "mean_sales = np.mean(data[:, -1])\n",
    "rate_of_sales = np.where(data[:, -1] > mean_sales, \"Good\", np.where(data[:, -1] == mean_sales, \"Average\", \"Bad\"))\n",
    "print(\"Rate of sales:\", rate_of_sales[7: 10])\n",
    "\n",
    "sales = data[:, -1]\n",
    "A = sales[np.abs(sales - mean_sales).argmin()]\n",
    "rate_of_sales2 = np.where(sales > A, \"Good\", np.where(sales == A, \"Average\", \"Bad\"))\n",
    "rate_of_sales2[7: 10]\n",
    "\n"
   ]
  }
 ],
 "metadata": {
  "kernelspec": {
   "display_name": "AIVN",
   "language": "python",
   "name": "python3"
  },
  "language_info": {
   "codemirror_mode": {
    "name": "ipython",
    "version": 3
   },
   "file_extension": ".py",
   "mimetype": "text/x-python",
   "name": "python",
   "nbconvert_exporter": "python",
   "pygments_lexer": "ipython3",
   "version": "3.9.19"
  }
 },
 "nbformat": 4,
 "nbformat_minor": 2
}
